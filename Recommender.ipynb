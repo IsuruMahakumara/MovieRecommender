{
  "nbformat": 4,
  "nbformat_minor": 0,
  "metadata": {
    "colab": {
      "name": "Recommender.ipynb",
      "provenance": [],
      "mount_file_id": "1X5MevZOxPhBrVFtLZ5LxnF4NutN1c5Gn",
      "authorship_tag": "ABX9TyPqmuI54zvuLtSyKe2gIa2/",
      "include_colab_link": true
    },
    "kernelspec": {
      "name": "python3",
      "display_name": "Python 3"
    },
    "language_info": {
      "name": "python"
    }
  },
  "cells": [
    {
      "cell_type": "markdown",
      "metadata": {
        "id": "view-in-github",
        "colab_type": "text"
      },
      "source": [
        "<a href=\"https://colab.research.google.com/github/IsuruMahakumara/MovieRecommender/blob/main/Recommender.ipynb\" target=\"_parent\"><img src=\"https://colab.research.google.com/assets/colab-badge.svg\" alt=\"Open In Colab\"/></a>"
      ]
    },
    {
      "cell_type": "code",
      "metadata": {
        "id": "0L39vxM9R-LD"
      },
      "source": [
        "import numpy as np\n",
        "import pandas as pd\n",
        "from os import listdir\n",
        "from sklearn.metrics.pairwise import cosine_similarity\n",
        "from scipy.sparse import csr_matrix\n",
        "from sklearn.neighbors import NearestNeighbors\n",
        "\n",
        "import matplotlib.pyplot as plt\n",
        "import seaborn as sns\n",
        "import time\n"
      ],
      "execution_count": 2,
      "outputs": []
    },
    {
      "cell_type": "code",
      "metadata": {
        "cellView": "code",
        "id": "abWgzrvUS8fq"
      },
      "source": [
        "dir = '/content/drive/MyDrive/Daraz-Assigment/unzipped/'\n",
        "\n",
        "file_list = listdir(dir)\n",
        "\n",
        "file_list.remove('readme.txt')  #13 Data Files"
      ],
      "execution_count": 3,
      "outputs": []
    },
    {
      "cell_type": "code",
      "metadata": {
        "id": "UCO9g7h6gGJw"
      },
      "source": [
        "movie_countries = pd.read_csv(dir+'movie_countries.dat', sep='\\t', encoding='cp1252') \n",
        "\n",
        "movie_directors = pd.read_csv(dir+'movie_directors.dat', sep='\\t', encoding='cp1252') \n",
        "\n",
        "movie_genres = pd.read_csv(dir+'movie_genres.dat', sep='\\t', encoding='cp1252') \n",
        "\n",
        "movie_tags = pd.read_csv(dir+'movie_tags.dat', sep='\\t', encoding='cp1252') \n",
        "\n",
        "tags = pd.read_csv(dir+'tags.dat', sep='\\t', encoding='cp1252') \n",
        "\n",
        "movie_locations = pd.read_csv(dir+'movie_locations.dat', sep='\\t', encoding='cp1252') \n",
        "\n",
        "movies = pd.read_csv(dir+'movies.dat', sep='\\t', encoding='cp1252') \n",
        "\n",
        "user_taggedmovies_timestamps = pd.read_csv(dir+'user_taggedmovies-timestamps.dat', sep='\\t', encoding='cp1252') \n",
        "\n",
        "user_taggedmovies = pd.read_csv(dir+'user_taggedmovies.dat', sep='\\t', encoding='cp1252') \n",
        "\n",
        "user_ratedmovies_timestamps = pd.read_csv(dir+'user_ratedmovies-timestamps.dat', sep='\\t', encoding='cp1252') \n",
        "\n",
        "user_ratedmovies = pd.read_csv(dir+'user_ratedmovies.dat', sep='\\t', encoding='cp1252') \n",
        "\n",
        "movie_actors = pd.read_csv(dir+'movie_actors.dat', sep='\\t', encoding='cp1252') "
      ],
      "execution_count": 89,
      "outputs": []
    },
    {
      "cell_type": "code",
      "metadata": {
        "id": "VFgm1VXlrkKz"
      },
      "source": [
        "#Wrangling movies.dat\n",
        "\n",
        "movies_noisy_col =['imdbID', 'spanishTitle', 'imdbPictureURL', 'rtID', 'rtPictureURL']  # \n",
        "movies_rating_col = ['rtAllCriticsRating','rtAllCriticsNumReviews', 'rtAllCriticsNumFresh', 'rtAllCriticsNumRotten', 'rtAllCriticsScore','rtTopCriticsRating',\n",
        "       'rtTopCriticsNumReviews', 'rtTopCriticsNumFresh','rtTopCriticsNumRotten', 'rtTopCriticsScore','rtAudienceRating',\n",
        "       'rtAudienceNumRatings', 'rtAudienceScore']\n",
        "\n",
        "\n",
        "#Converting object to float\n",
        "for col in movies_rating_col:\n",
        "  movies[col] = pd.to_numeric(movies[col], errors='coerce')\n",
        "\n",
        "#Compute mean rating \n",
        "movies[\"Mean Rating\"] = movies[movies_rating_col].mean(axis=1)\n",
        "\n",
        "#Min-Max Normalize the mean Rating\n",
        "from sklearn.preprocessing import MinMaxScaler\n",
        "x =movies[\"Mean Rating\"].values.reshape(10197,1)\n",
        "rating_scaled = MinMaxScaler().fit_transform(x)\n",
        "movies[\"Mean Rating\"] = rating_scaled\n",
        "\n",
        "\n",
        "#Removing noisy columns\n",
        "movies = movies.drop(columns=movies_noisy_col)\n",
        "movies = movies.drop(columns=movies_rating_col)\n",
        "\n",
        "#Rename id to moiveID for consistency\n",
        "movies.rename(columns={'id':'movieID'}, inplace=True) \n",
        "\n"
      ],
      "execution_count": 90,
      "outputs": []
    },
    {
      "cell_type": "code",
      "metadata": {
        "id": "SMsgC16ju1fO",
        "colab": {
          "base_uri": "https://localhost:8080/",
          "height": 255
        },
        "outputId": "824ac731-ae61-41e9-c4da-746ec3698aee"
      },
      "source": [
        "#movie directors.dat    movies_countries.dat\n",
        "\n",
        "print('before director  merge', movies.shape)\n",
        "movie_directors.drop(['directorName'], axis=1, inplace=True)\n",
        "movies  = movies.merge(movie_directors,on='movieID')\n",
        "\n",
        "print('before actor merge', movies.shape)\n",
        "\n",
        "##Wrangling movie_actors.dat\n",
        "movie_actors.drop(['actorName'], axis=1, inplace=True)\n",
        "#Selecting the top two actors\n",
        "movie_actors = movie_actors.loc[movie_actors['ranking']<3]\n",
        "#Return top two actors into one field\n",
        "movie_actors['actorID'] = movie_actors['actorID'] + \"  \"\n",
        "actors = movie_actors.groupby('movieID')[\"actorID\"].sum()\n",
        "movie_actors = pd.DataFrame(actors)\n",
        "\n",
        "#Merge with movies\n",
        "movies = movies.merge(movie_actors, on = 'movieID')\n",
        "\n",
        "print('before genre merge', movies.shape)\n",
        "\n",
        "\n",
        "#Wrangling movie_genres.dat\n",
        "#Returning genres to one field\n",
        "movie_genres['genre'] = movie_genres['genre'] +\" \"\n",
        "genres = movie_genres.groupby(['movieID'])['genre'].sum()\n",
        "genres = pd.DataFrame(genres)\n",
        "#Mergin with movies\n",
        "movies = movies.merge(genres, on='movieID')\n",
        "\n",
        "movies.drop(columns=['Mean Rating'], inplace=True)\n",
        "\n",
        "\n",
        "movies.tail()\n"
      ],
      "execution_count": 91,
      "outputs": [
        {
          "output_type": "stream",
          "name": "stdout",
          "text": [
            "before director  merge (10197, 4)\n",
            "before actor merge (10155, 5)\n",
            "before genre merge (10134, 6)\n"
          ]
        },
        {
          "output_type": "execute_result",
          "data": {
            "text/html": [
              "<div>\n",
              "<style scoped>\n",
              "    .dataframe tbody tr th:only-of-type {\n",
              "        vertical-align: middle;\n",
              "    }\n",
              "\n",
              "    .dataframe tbody tr th {\n",
              "        vertical-align: top;\n",
              "    }\n",
              "\n",
              "    .dataframe thead th {\n",
              "        text-align: right;\n",
              "    }\n",
              "</style>\n",
              "<table border=\"1\" class=\"dataframe\">\n",
              "  <thead>\n",
              "    <tr style=\"text-align: right;\">\n",
              "      <th></th>\n",
              "      <th>movieID</th>\n",
              "      <th>title</th>\n",
              "      <th>year</th>\n",
              "      <th>directorID</th>\n",
              "      <th>actorID</th>\n",
              "      <th>genre</th>\n",
              "    </tr>\n",
              "  </thead>\n",
              "  <tbody>\n",
              "    <tr>\n",
              "      <th>10129</th>\n",
              "      <td>65088</td>\n",
              "      <td>Bedtime Stories</td>\n",
              "      <td>2008</td>\n",
              "      <td>adam_shankman</td>\n",
              "      <td>adam_sandler  keri_russell</td>\n",
              "      <td>Adventure Children Comedy</td>\n",
              "    </tr>\n",
              "    <tr>\n",
              "      <th>10130</th>\n",
              "      <td>65091</td>\n",
              "      <td>Manhattan Melodrama</td>\n",
              "      <td>1934</td>\n",
              "      <td>ws_van_dyke</td>\n",
              "      <td>clark_gable  william_powell</td>\n",
              "      <td>Crime Drama Romance</td>\n",
              "    </tr>\n",
              "    <tr>\n",
              "      <th>10131</th>\n",
              "      <td>65126</td>\n",
              "      <td>Choke</td>\n",
              "      <td>2008</td>\n",
              "      <td>clark_gregg</td>\n",
              "      <td>anjelicahuston  sam_rockwell</td>\n",
              "      <td>Comedy Drama</td>\n",
              "    </tr>\n",
              "    <tr>\n",
              "      <th>10132</th>\n",
              "      <td>65130</td>\n",
              "      <td>Revolutionary Road</td>\n",
              "      <td>2008</td>\n",
              "      <td>sam_mendes</td>\n",
              "      <td>kate_winslet  leonardo_di_caprio</td>\n",
              "      <td>Drama Romance</td>\n",
              "    </tr>\n",
              "    <tr>\n",
              "      <th>10133</th>\n",
              "      <td>65133</td>\n",
              "      <td>Blackadder Back &amp; Forth</td>\n",
              "      <td>1999</td>\n",
              "      <td>paul_weiland</td>\n",
              "      <td>colin_firth  hugh_laurie</td>\n",
              "      <td>Comedy</td>\n",
              "    </tr>\n",
              "  </tbody>\n",
              "</table>\n",
              "</div>"
            ],
            "text/plain": [
              "       movieID  ...                       genre\n",
              "10129    65088  ...  Adventure Children Comedy \n",
              "10130    65091  ...        Crime Drama Romance \n",
              "10131    65126  ...               Comedy Drama \n",
              "10132    65130  ...              Drama Romance \n",
              "10133    65133  ...                     Comedy \n",
              "\n",
              "[5 rows x 6 columns]"
            ]
          },
          "metadata": {},
          "execution_count": 91
        }
      ]
    },
    {
      "cell_type": "code",
      "metadata": {
        "id": "OuQSlCOCe3Rh",
        "colab": {
          "base_uri": "https://localhost:8080/",
          "height": 204
        },
        "outputId": "6315e9fa-a7b4-4ec3-b80a-b239b0d6ea3d"
      },
      "source": [
        "movies['year'] = movies['year'].astype('str')\n",
        "\n",
        "movies ['Key'] = movies['directorID']+' '+movies['actorID']+' '+movies['genre']+' '+movies['year']\n",
        "movies[['year', 'title', 'Key']].head()\n",
        "\n",
        "\n",
        "#############ERROR############:::>>>>>(10134, 7)>>>>>>>>shape of movies"
      ],
      "execution_count": 7,
      "outputs": [
        {
          "output_type": "execute_result",
          "data": {
            "text/html": [
              "<div>\n",
              "<style scoped>\n",
              "    .dataframe tbody tr th:only-of-type {\n",
              "        vertical-align: middle;\n",
              "    }\n",
              "\n",
              "    .dataframe tbody tr th {\n",
              "        vertical-align: top;\n",
              "    }\n",
              "\n",
              "    .dataframe thead th {\n",
              "        text-align: right;\n",
              "    }\n",
              "</style>\n",
              "<table border=\"1\" class=\"dataframe\">\n",
              "  <thead>\n",
              "    <tr style=\"text-align: right;\">\n",
              "      <th></th>\n",
              "      <th>year</th>\n",
              "      <th>title</th>\n",
              "      <th>Key</th>\n",
              "    </tr>\n",
              "  </thead>\n",
              "  <tbody>\n",
              "    <tr>\n",
              "      <th>0</th>\n",
              "      <td>1995</td>\n",
              "      <td>Toy story</td>\n",
              "      <td>john_lasseter tim_allen  tom_hanks   Adventure...</td>\n",
              "    </tr>\n",
              "    <tr>\n",
              "      <th>1</th>\n",
              "      <td>1995</td>\n",
              "      <td>Jumanji</td>\n",
              "      <td>joe_johnston bonnie_hunt  robin_williams   Adv...</td>\n",
              "    </tr>\n",
              "    <tr>\n",
              "      <th>2</th>\n",
              "      <td>1993</td>\n",
              "      <td>Grumpy Old Men</td>\n",
              "      <td>donald_petrie jack_lemmon  walter_matthau   Co...</td>\n",
              "    </tr>\n",
              "    <tr>\n",
              "      <th>3</th>\n",
              "      <td>1995</td>\n",
              "      <td>Waiting to Exhale</td>\n",
              "      <td>forest_whitaker angela_bassett  whitney_housto...</td>\n",
              "    </tr>\n",
              "    <tr>\n",
              "      <th>4</th>\n",
              "      <td>1995</td>\n",
              "      <td>Father of the Bride Part II</td>\n",
              "      <td>charles_shyer diane_keaton  steve_martin   Com...</td>\n",
              "    </tr>\n",
              "  </tbody>\n",
              "</table>\n",
              "</div>"
            ],
            "text/plain": [
              "   year  ...                                                Key\n",
              "0  1995  ...  john_lasseter tim_allen  tom_hanks   Adventure...\n",
              "1  1995  ...  joe_johnston bonnie_hunt  robin_williams   Adv...\n",
              "2  1993  ...  donald_petrie jack_lemmon  walter_matthau   Co...\n",
              "3  1995  ...  forest_whitaker angela_bassett  whitney_housto...\n",
              "4  1995  ...  charles_shyer diane_keaton  steve_martin   Com...\n",
              "\n",
              "[5 rows x 3 columns]"
            ]
          },
          "metadata": {},
          "execution_count": 7
        }
      ]
    },
    {
      "cell_type": "code",
      "metadata": {
        "id": "VJbJyjgTGwJO"
      },
      "source": [
        "from sklearn.feature_extraction.text import CountVectorizer\n",
        "\n",
        "cv = CountVectorizer()\n",
        "X_csr = cv.fit_transform(movies['Key'])"
      ],
      "execution_count": 33,
      "outputs": []
    },
    {
      "cell_type": "code",
      "metadata": {
        "colab": {
          "base_uri": "https://localhost:8080/",
          "height": 673
        },
        "id": "kQprB8t1_9cv",
        "outputId": "d73af803-5865-4c2c-87ee-4f1b7069a0e4"
      },
      "source": [
        "##Cosine similarity\n",
        "cosine_sim = cosine_similarity(X_csr)\n",
        "\n",
        "\n",
        "similar_movies = list(enumerate(cosine_sim[296]))\n",
        "similar_movies = sorted(similar_movies,key=lambda x:x[1],reverse=True)[1:]\n",
        "top = similar_movies[0:13]\n",
        "\n",
        "rec = pd.DataFrame(top, columns=['movieIndex', 'Similarity'])   \n",
        "Cos_Title= movies['title'].iloc[rec.movieIndex.values]\n",
        "a = Cos_Title.values\n",
        "print(*a, sep = \"\\n\")\n",
        "movies.iloc[rec.movieIndex.values]"
      ],
      "execution_count": 95,
      "outputs": [
        {
          "output_type": "stream",
          "name": "stdout",
          "text": [
            "The Cement Garden\n",
            "Mi vida loca\n",
            "Trois couleurs: Rouge\n",
            "What's Eating Gilbert Grape\n",
            "Little Buddha\n",
            "This Boy's Life\n",
            "In the Name of the Father\n",
            "King of the Hill\n",
            "Naked\n",
            "Philadelphia\n",
            "Poetic Justice\n",
            "Ruby in Paradise\n",
            "Rudy\n"
          ]
        },
        {
          "output_type": "execute_result",
          "data": {
            "text/html": [
              "<div>\n",
              "<style scoped>\n",
              "    .dataframe tbody tr th:only-of-type {\n",
              "        vertical-align: middle;\n",
              "    }\n",
              "\n",
              "    .dataframe tbody tr th {\n",
              "        vertical-align: top;\n",
              "    }\n",
              "\n",
              "    .dataframe thead th {\n",
              "        text-align: right;\n",
              "    }\n",
              "</style>\n",
              "<table border=\"1\" class=\"dataframe\">\n",
              "  <thead>\n",
              "    <tr style=\"text-align: right;\">\n",
              "      <th></th>\n",
              "      <th>movieID</th>\n",
              "      <th>title</th>\n",
              "      <th>year</th>\n",
              "      <th>directorID</th>\n",
              "      <th>actorID</th>\n",
              "      <th>genre</th>\n",
              "    </tr>\n",
              "  </thead>\n",
              "  <tbody>\n",
              "    <tr>\n",
              "      <th>1296</th>\n",
              "      <td>1437</td>\n",
              "      <td>The Cement Garden</td>\n",
              "      <td>1993</td>\n",
              "      <td>_0001949</td>\n",
              "      <td>jospeh_phd_kramer</td>\n",
              "      <td>Drama</td>\n",
              "    </tr>\n",
              "    <tr>\n",
              "      <th>258</th>\n",
              "      <td>269</td>\n",
              "      <td>Mi vida loca</td>\n",
              "      <td>1993</td>\n",
              "      <td>allison_anders</td>\n",
              "      <td>angel_aviles  seidy_lopez</td>\n",
              "      <td>Drama</td>\n",
              "    </tr>\n",
              "    <tr>\n",
              "      <th>295</th>\n",
              "      <td>306</td>\n",
              "      <td>Trois couleurs: Rouge</td>\n",
              "      <td>1994</td>\n",
              "      <td>krzysztof_kieslowski</td>\n",
              "      <td>irene_jacob  jeanlouis_trintignant</td>\n",
              "      <td>Drama</td>\n",
              "    </tr>\n",
              "    <tr>\n",
              "      <th>324</th>\n",
              "      <td>337</td>\n",
              "      <td>What's Eating Gilbert Grape</td>\n",
              "      <td>1993</td>\n",
              "      <td>162659443</td>\n",
              "      <td>johnny_depp  juliette_lewis</td>\n",
              "      <td>Drama</td>\n",
              "    </tr>\n",
              "    <tr>\n",
              "      <th>352</th>\n",
              "      <td>365</td>\n",
              "      <td>Little Buddha</td>\n",
              "      <td>1993</td>\n",
              "      <td>bernardo_bertolucci</td>\n",
              "      <td>chris_isaak  keanu_reeves</td>\n",
              "      <td>Drama</td>\n",
              "    </tr>\n",
              "    <tr>\n",
              "      <th>375</th>\n",
              "      <td>388</td>\n",
              "      <td>This Boy's Life</td>\n",
              "      <td>1993</td>\n",
              "      <td>michael_catonjones</td>\n",
              "      <td>ellen_barkin  robert_de_niro</td>\n",
              "      <td>Drama</td>\n",
              "    </tr>\n",
              "    <tr>\n",
              "      <th>455</th>\n",
              "      <td>475</td>\n",
              "      <td>In the Name of the Father</td>\n",
              "      <td>1993</td>\n",
              "      <td>jim_sheridan</td>\n",
              "      <td>daniel_daylewis  pete_postlethwaite</td>\n",
              "      <td>Drama</td>\n",
              "    </tr>\n",
              "    <tr>\n",
              "      <th>463</th>\n",
              "      <td>483</td>\n",
              "      <td>King of the Hill</td>\n",
              "      <td>1993</td>\n",
              "      <td>steven_soderbergh</td>\n",
              "      <td>jeroen_krabbe  jesse_bradford</td>\n",
              "      <td>Drama</td>\n",
              "    </tr>\n",
              "    <tr>\n",
              "      <th>480</th>\n",
              "      <td>501</td>\n",
              "      <td>Naked</td>\n",
              "      <td>1993</td>\n",
              "      <td>mike_leigh</td>\n",
              "      <td>david_thewlis  lesley_sharp</td>\n",
              "      <td>Drama</td>\n",
              "    </tr>\n",
              "    <tr>\n",
              "      <th>487</th>\n",
              "      <td>508</td>\n",
              "      <td>Philadelphia</td>\n",
              "      <td>1993</td>\n",
              "      <td>jonathan_demme</td>\n",
              "      <td>denzel_washington  tom_hanks</td>\n",
              "      <td>Drama</td>\n",
              "    </tr>\n",
              "    <tr>\n",
              "      <th>489</th>\n",
              "      <td>510</td>\n",
              "      <td>Poetic Justice</td>\n",
              "      <td>1993</td>\n",
              "      <td>john_singleton</td>\n",
              "      <td>janet_jackson  tupac_shakur</td>\n",
              "      <td>Drama</td>\n",
              "    </tr>\n",
              "    <tr>\n",
              "      <th>502</th>\n",
              "      <td>523</td>\n",
              "      <td>Ruby in Paradise</td>\n",
              "      <td>1993</td>\n",
              "      <td>victor_nunez</td>\n",
              "      <td>ashley_judd  todd_field</td>\n",
              "      <td>Drama</td>\n",
              "    </tr>\n",
              "    <tr>\n",
              "      <th>503</th>\n",
              "      <td>524</td>\n",
              "      <td>Rudy</td>\n",
              "      <td>1993</td>\n",
              "      <td>david_anspaugh</td>\n",
              "      <td>ned_beatty  sean_astin</td>\n",
              "      <td>Drama</td>\n",
              "    </tr>\n",
              "  </tbody>\n",
              "</table>\n",
              "</div>"
            ],
            "text/plain": [
              "      movieID  ...   genre\n",
              "1296     1437  ...  Drama \n",
              "258       269  ...  Drama \n",
              "295       306  ...  Drama \n",
              "324       337  ...  Drama \n",
              "352       365  ...  Drama \n",
              "375       388  ...  Drama \n",
              "455       475  ...  Drama \n",
              "463       483  ...  Drama \n",
              "480       501  ...  Drama \n",
              "487       508  ...  Drama \n",
              "489       510  ...  Drama \n",
              "502       523  ...  Drama \n",
              "503       524  ...  Drama \n",
              "\n",
              "[13 rows x 6 columns]"
            ]
          },
          "metadata": {},
          "execution_count": 95
        }
      ]
    },
    {
      "cell_type": "code",
      "metadata": {
        "id": "e6Khu3MSVBmv"
      },
      "source": [
        "\n"
      ],
      "execution_count": 96,
      "outputs": []
    },
    {
      "cell_type": "code",
      "metadata": {
        "id": "ObPbn0vZbhQv"
      },
      "source": [
        "rating =  user_ratedmovies_timestamps.pivot(index='userID',columns='movieID',values='rating')\n",
        "rating.fillna(0,inplace=True)\n"
      ],
      "execution_count": 10,
      "outputs": []
    },
    {
      "cell_type": "code",
      "metadata": {
        "id": "F0SxS8Yy2vGk"
      },
      "source": [
        "#Prediction Of Rating Using Single Value Decomposition \n",
        "R = rating.values\n",
        "R_mean = np.mean(R, axis = 1).reshape(-1,1)\n",
        "R_demeaned = R - R_mean\n",
        "\n",
        "\n",
        "from scipy.sparse.linalg import svds\n",
        "U, sigma, Vt = svds(R_demeaned, k = 50)\n",
        "sigma = np.diag(sigma)\n",
        "predicted_R = np.dot(np.dot(U, sigma), Vt) + R_mean\n",
        "predicted_R = pd.DataFrame(predicted_R, index=rating.index, columns=rating.columns)"
      ],
      "execution_count": 11,
      "outputs": []
    },
    {
      "cell_type": "code",
      "metadata": {
        "id": "VSESyJFGhek1"
      },
      "source": [
        "\n",
        "\n",
        "def get_index(title):\n",
        "    item = movies[movies.title == title][\"index\"].values[0]\n",
        "    return print(item)\n",
        "\n",
        "\n",
        "def get_title(movieID):\n",
        "  title = movies['title'].loc[movies['movieID']==movieID].values[0]\n",
        "  return title\n",
        "    \n"
      ],
      "execution_count": 12,
      "outputs": []
    },
    {
      "cell_type": "code",
      "metadata": {
        "colab": {
          "base_uri": "https://localhost:8080/",
          "height": 204
        },
        "id": "X9fnJWGiHJ_r",
        "outputId": "dabb659d-c0c5-41ea-81f3-82d57a51dcd6"
      },
      "source": [
        "sample = [ 939, 1410, 3925, 5161, 6977]\n",
        "recom_Index = np.zeros(5, dtype=int)\n",
        "\n",
        "for i in range(5):\n",
        "\n",
        "  similar_movies =cosine_sim[sample[i]].reshape(-1,1)\n",
        "  similar_movies= pd.DataFrame(similar_movies, columns=['Similarity']).sort_values(by =['Similarity'], ascending=False)[1:2].index.values\n",
        "  recom_Index [i]= similar_movies\n",
        "movies.iloc[recom_Index]"
      ],
      "execution_count": 102,
      "outputs": [
        {
          "output_type": "execute_result",
          "data": {
            "text/html": [
              "<div>\n",
              "<style scoped>\n",
              "    .dataframe tbody tr th:only-of-type {\n",
              "        vertical-align: middle;\n",
              "    }\n",
              "\n",
              "    .dataframe tbody tr th {\n",
              "        vertical-align: top;\n",
              "    }\n",
              "\n",
              "    .dataframe thead th {\n",
              "        text-align: right;\n",
              "    }\n",
              "</style>\n",
              "<table border=\"1\" class=\"dataframe\">\n",
              "  <thead>\n",
              "    <tr style=\"text-align: right;\">\n",
              "      <th></th>\n",
              "      <th>movieID</th>\n",
              "      <th>title</th>\n",
              "      <th>year</th>\n",
              "      <th>directorID</th>\n",
              "      <th>actorID</th>\n",
              "      <th>genre</th>\n",
              "    </tr>\n",
              "  </thead>\n",
              "  <tbody>\n",
              "    <tr>\n",
              "      <th>979</th>\n",
              "      <td>1081</td>\n",
              "      <td>Victor Victoria</td>\n",
              "      <td>1982</td>\n",
              "      <td>blake_edwards</td>\n",
              "      <td>james_garner  julie_andrews</td>\n",
              "      <td>Comedy Musical Romance</td>\n",
              "    </tr>\n",
              "    <tr>\n",
              "      <th>5097</th>\n",
              "      <td>5459</td>\n",
              "      <td>Men in Black II</td>\n",
              "      <td>2002</td>\n",
              "      <td>barry_sonnenfeld</td>\n",
              "      <td>tommy_lee_jones  will_smith</td>\n",
              "      <td>Action Comedy Sci-Fi</td>\n",
              "    </tr>\n",
              "    <tr>\n",
              "      <th>7602</th>\n",
              "      <td>8671</td>\n",
              "      <td>Zus &amp; zo</td>\n",
              "      <td>2001</td>\n",
              "      <td>paula_van_der_oest</td>\n",
              "      <td>anneke_blok  annet_nieuwenhuyzen</td>\n",
              "      <td>Comedy Drama Romance</td>\n",
              "    </tr>\n",
              "    <tr>\n",
              "      <th>5818</th>\n",
              "      <td>6218</td>\n",
              "      <td>Bend It Like Beckham</td>\n",
              "      <td>2002</td>\n",
              "      <td>gurinder_chadha</td>\n",
              "      <td>keira_knightley  parminder_nagra</td>\n",
              "      <td>Adventure Comedy Drama Romance</td>\n",
              "    </tr>\n",
              "    <tr>\n",
              "      <th>6258</th>\n",
              "      <td>6683</td>\n",
              "      <td>Man on Fire</td>\n",
              "      <td>2004</td>\n",
              "      <td>tony_scott</td>\n",
              "      <td>dakota_fanning  denzel_washington</td>\n",
              "      <td>Drama</td>\n",
              "    </tr>\n",
              "  </tbody>\n",
              "</table>\n",
              "</div>"
            ],
            "text/plain": [
              "      movieID  ...                            genre\n",
              "979      1081  ...          Comedy Musical Romance \n",
              "5097     5459  ...            Action Comedy Sci-Fi \n",
              "7602     8671  ...            Comedy Drama Romance \n",
              "5818     6218  ...  Adventure Comedy Drama Romance \n",
              "6258     6683  ...                           Drama \n",
              "\n",
              "[5 rows x 6 columns]"
            ]
          },
          "metadata": {},
          "execution_count": 102
        }
      ]
    },
    {
      "cell_type": "code",
      "metadata": {
        "colab": {
          "base_uri": "https://localhost:8080/",
          "height": 450
        },
        "id": "9DhJQEUKu01S",
        "outputId": "43688e1d-ebe6-4e0a-e59f-964245e9e438"
      },
      "source": [
        "recom_ID = movies.iloc[recom_Index]['movieID'].values\n",
        "\n",
        "\n",
        "predicted_R[recom_ID]\n",
        "\n"
      ],
      "execution_count": 120,
      "outputs": [
        {
          "output_type": "execute_result",
          "data": {
            "text/html": [
              "<div>\n",
              "<style scoped>\n",
              "    .dataframe tbody tr th:only-of-type {\n",
              "        vertical-align: middle;\n",
              "    }\n",
              "\n",
              "    .dataframe tbody tr th {\n",
              "        vertical-align: top;\n",
              "    }\n",
              "\n",
              "    .dataframe thead th {\n",
              "        text-align: right;\n",
              "    }\n",
              "</style>\n",
              "<table border=\"1\" class=\"dataframe\">\n",
              "  <thead>\n",
              "    <tr style=\"text-align: right;\">\n",
              "      <th>movieID</th>\n",
              "      <th>1081</th>\n",
              "      <th>5459</th>\n",
              "      <th>8671</th>\n",
              "      <th>6218</th>\n",
              "      <th>6683</th>\n",
              "    </tr>\n",
              "    <tr>\n",
              "      <th>userID</th>\n",
              "      <th></th>\n",
              "      <th></th>\n",
              "      <th></th>\n",
              "      <th></th>\n",
              "      <th></th>\n",
              "    </tr>\n",
              "  </thead>\n",
              "  <tbody>\n",
              "    <tr>\n",
              "      <th>75</th>\n",
              "      <td>-0.026194</td>\n",
              "      <td>0.215170</td>\n",
              "      <td>-0.003609</td>\n",
              "      <td>-0.177155</td>\n",
              "      <td>-0.010647</td>\n",
              "    </tr>\n",
              "    <tr>\n",
              "      <th>78</th>\n",
              "      <td>0.668332</td>\n",
              "      <td>0.759107</td>\n",
              "      <td>0.001047</td>\n",
              "      <td>1.510106</td>\n",
              "      <td>0.380183</td>\n",
              "    </tr>\n",
              "    <tr>\n",
              "      <th>127</th>\n",
              "      <td>-0.004595</td>\n",
              "      <td>0.070571</td>\n",
              "      <td>0.003215</td>\n",
              "      <td>0.067621</td>\n",
              "      <td>-0.012369</td>\n",
              "    </tr>\n",
              "    <tr>\n",
              "      <th>170</th>\n",
              "      <td>0.127078</td>\n",
              "      <td>0.181688</td>\n",
              "      <td>0.002523</td>\n",
              "      <td>0.001725</td>\n",
              "      <td>0.019296</td>\n",
              "    </tr>\n",
              "    <tr>\n",
              "      <th>175</th>\n",
              "      <td>-0.098030</td>\n",
              "      <td>-0.201895</td>\n",
              "      <td>-0.026340</td>\n",
              "      <td>1.593062</td>\n",
              "      <td>-0.005564</td>\n",
              "    </tr>\n",
              "    <tr>\n",
              "      <th>...</th>\n",
              "      <td>...</td>\n",
              "      <td>...</td>\n",
              "      <td>...</td>\n",
              "      <td>...</td>\n",
              "      <td>...</td>\n",
              "    </tr>\n",
              "    <tr>\n",
              "      <th>71497</th>\n",
              "      <td>0.165819</td>\n",
              "      <td>1.170478</td>\n",
              "      <td>0.016644</td>\n",
              "      <td>0.917112</td>\n",
              "      <td>0.001877</td>\n",
              "    </tr>\n",
              "    <tr>\n",
              "      <th>71509</th>\n",
              "      <td>0.866310</td>\n",
              "      <td>0.983137</td>\n",
              "      <td>-0.021601</td>\n",
              "      <td>1.576619</td>\n",
              "      <td>0.292056</td>\n",
              "    </tr>\n",
              "    <tr>\n",
              "      <th>71525</th>\n",
              "      <td>0.080382</td>\n",
              "      <td>1.804823</td>\n",
              "      <td>-0.019379</td>\n",
              "      <td>1.312573</td>\n",
              "      <td>-0.018460</td>\n",
              "    </tr>\n",
              "    <tr>\n",
              "      <th>71529</th>\n",
              "      <td>-0.088588</td>\n",
              "      <td>0.140007</td>\n",
              "      <td>0.018250</td>\n",
              "      <td>0.711794</td>\n",
              "      <td>0.016181</td>\n",
              "    </tr>\n",
              "    <tr>\n",
              "      <th>71534</th>\n",
              "      <td>0.208411</td>\n",
              "      <td>-0.184640</td>\n",
              "      <td>-0.004212</td>\n",
              "      <td>0.498356</td>\n",
              "      <td>-0.030847</td>\n",
              "    </tr>\n",
              "  </tbody>\n",
              "</table>\n",
              "<p>2113 rows × 5 columns</p>\n",
              "</div>"
            ],
            "text/plain": [
              "movieID      1081      5459      8671      6218      6683\n",
              "userID                                                   \n",
              "75      -0.026194  0.215170 -0.003609 -0.177155 -0.010647\n",
              "78       0.668332  0.759107  0.001047  1.510106  0.380183\n",
              "127     -0.004595  0.070571  0.003215  0.067621 -0.012369\n",
              "170      0.127078  0.181688  0.002523  0.001725  0.019296\n",
              "175     -0.098030 -0.201895 -0.026340  1.593062 -0.005564\n",
              "...           ...       ...       ...       ...       ...\n",
              "71497    0.165819  1.170478  0.016644  0.917112  0.001877\n",
              "71509    0.866310  0.983137 -0.021601  1.576619  0.292056\n",
              "71525    0.080382  1.804823 -0.019379  1.312573 -0.018460\n",
              "71529   -0.088588  0.140007  0.018250  0.711794  0.016181\n",
              "71534    0.208411 -0.184640 -0.004212  0.498356 -0.030847\n",
              "\n",
              "[2113 rows x 5 columns]"
            ]
          },
          "metadata": {},
          "execution_count": 120
        }
      ]
    },
    {
      "cell_type": "code",
      "metadata": {
        "colab": {
          "base_uri": "https://localhost:8080/"
        },
        "id": "10Nm5RLhG1_g",
        "outputId": "e05fdc02-b832-4343-d6ee-e7253c48b79f"
      },
      "source": [
        "User_ratedMovies = rating.iloc[75].apply(lambda x:x!=0)\n",
        "watched = User_ratedMovies[User_ratedMovies].index.values.reshape(1,-1)\n",
        "\n",
        "User_ratedMovies.head()"
      ],
      "execution_count": 92,
      "outputs": [
        {
          "output_type": "execute_result",
          "data": {
            "text/plain": [
              "movieID\n",
              "1    False\n",
              "2    False\n",
              "3    False\n",
              "4    False\n",
              "5    False\n",
              "Name: 2477, dtype: bool"
            ]
          },
          "metadata": {},
          "execution_count": 92
        }
      ]
    },
    {
      "cell_type": "code",
      "metadata": {
        "colab": {
          "base_uri": "https://localhost:8080/"
        },
        "id": "2wn6gNPYd7WF",
        "outputId": "8f2de554-cfb0-4043-d4b1-9c474fd82756"
      },
      "source": [
        "#Select the 05 most recent and highest rated movies of UserID\n",
        "User_ratedMovies = rating.iloc[75].apply(lambda x:x>4)\n",
        "sample = User_ratedMovies[User_ratedMovies].index.values\n",
        "sample = np.random.choice(sample, 5)\n",
        "\n",
        "sample\n",
        "\n",
        "sample_index = movies.loc[movies['movieID'].isin(sample)].index.values\n",
        "\n",
        "\n",
        "sample_index\n"
      ],
      "execution_count": 38,
      "outputs": [
        {
          "output_type": "execute_result",
          "data": {
            "text/plain": [
              "array([ 939, 1410, 3925, 5161, 6977])"
            ]
          },
          "metadata": {},
          "execution_count": 38
        }
      ]
    },
    {
      "cell_type": "code",
      "metadata": {
        "id": "4T7ns01MuR70"
      },
      "source": [
        "##API returning movies \n",
        "\n",
        "\n",
        "def Recommendations(UserID):\n",
        "\n",
        "#Select at random  05  highest rated movies seen by  UserID \n",
        "  User_ratedMovies = rating.iloc[75].apply(lambda x:x>4)\n",
        "  sample = User_ratedMovies[User_ratedMovies].index.values\n",
        "  sample = np.random.choice(sample, 5)\n",
        "\n",
        "\n",
        "  #Nearest Neighbours\n",
        "  KNN = NearestNeighbors(n_neighbors=5,metric='cosine', radius=0.4).fit(X)\n",
        "\n",
        "  #Return 03 movieIDs for each of the 05 movies of UserID\n",
        "  recs_idx = KNN.kneighbors(item,  15, return_distance=False)\n",
        "  recs_idx = recs_idx.flatten()\n",
        "\n",
        "  #Select Movie title and Output \n",
        "  Title = movies['title'].iloc[recs_idx]\n",
        "  rec_movieID = movies['id'].iloc[recs_idx]\n",
        "  a = Title.values\n",
        "  print(\"Recommendations\")\n",
        "  print(*a, sep = \"\\n\")\n",
        "\n",
        "\n",
        "  STitle = movies['title'].iloc[movieID]\n",
        "  s = STitle.values\n",
        "  print(\"\\n\\nSamples Train Movies\\n\")\n",
        "  print(*s, sep=\"\\n\")\n",
        "\n",
        "  rec_movieID \n",
        "\n",
        "  return Title, rec_movieID\n"
      ],
      "execution_count": 16,
      "outputs": []
    },
    {
      "cell_type": "code",
      "metadata": {
        "colab": {
          "base_uri": "https://localhost:8080/",
          "height": 163
        },
        "id": "AbYCYjpSJql0",
        "outputId": "47c117cb-1c8a-4a51-f137-a256b4280953"
      },
      "source": [
        "user_preference.loc[user_preference['userID']==75][0:1]"
      ],
      "execution_count": 17,
      "outputs": [
        {
          "output_type": "error",
          "ename": "NameError",
          "evalue": "ignored",
          "traceback": [
            "\u001b[0;31m---------------------------------------------------------------------------\u001b[0m",
            "\u001b[0;31mNameError\u001b[0m                                 Traceback (most recent call last)",
            "\u001b[0;32m<ipython-input-17-09da9dd4e069>\u001b[0m in \u001b[0;36m<module>\u001b[0;34m()\u001b[0m\n\u001b[0;32m----> 1\u001b[0;31m \u001b[0muser_preference\u001b[0m\u001b[0;34m.\u001b[0m\u001b[0mloc\u001b[0m\u001b[0;34m[\u001b[0m\u001b[0muser_preference\u001b[0m\u001b[0;34m[\u001b[0m\u001b[0;34m'userID'\u001b[0m\u001b[0;34m]\u001b[0m\u001b[0;34m==\u001b[0m\u001b[0;36m75\u001b[0m\u001b[0;34m]\u001b[0m\u001b[0;34m[\u001b[0m\u001b[0;36m0\u001b[0m\u001b[0;34m:\u001b[0m\u001b[0;36m1\u001b[0m\u001b[0;34m]\u001b[0m\u001b[0;34m\u001b[0m\u001b[0;34m\u001b[0m\u001b[0m\n\u001b[0m",
            "\u001b[0;31mNameError\u001b[0m: name 'user_preference' is not defined"
          ]
        }
      ]
    },
    {
      "cell_type": "code",
      "metadata": {
        "id": "0NSQo4bb6vxD"
      },
      "source": [
        "Rec_Title, rec_movieID = Recommendations(75)\n"
      ],
      "execution_count": null,
      "outputs": []
    },
    {
      "cell_type": "code",
      "metadata": {
        "id": "mX-6Qp5pQ2Av"
      },
      "source": [
        "Cos_Title\n",
        "\n",
        "Cos_MovieID = rec['movieID'].values\n",
        "\n",
        "np.isin(Cos_MovieID, rec_movieID)"
      ],
      "execution_count": null,
      "outputs": []
    },
    {
      "cell_type": "code",
      "metadata": {
        "id": "o8bKe8SYbne8"
      },
      "source": [
        "###Evaluation \n",
        "\n",
        "#Precision = TP /(TP+FP)\n",
        "#Recall = TP / (TP+FN)\n",
        "\n",
        "#def Precision_User(UserID, Rec_Movies):\n",
        "UserID = 75\n",
        "User_movies = user_preference.loc[(user_preference['userID']==UserID) & (user_preference['rating']>4)]['movieID'].values\n",
        "\n",
        "User_movies\n",
        "rec_movieID.values\n",
        "Cos_MovieID\n",
        "\n",
        "np.isin(User_movies, Cos_MovieID)#.sum()  \n",
        "\n"
      ],
      "execution_count": null,
      "outputs": []
    }
  ]
}